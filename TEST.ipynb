{
 "cells": [
  {
   "cell_type": "code",
   "execution_count": 1,
   "metadata": {},
   "outputs": [],
   "source": [
    "import mysql.connector as mysql\n",
    "import pandas as pd"
   ]
  },
  {
   "cell_type": "code",
   "execution_count": 2,
   "metadata": {},
   "outputs": [],
   "source": [
    "db_conn = mysql.connect(host = '10.4.19.215', user = 'sugengw07', password= 'sgwi2341',\n",
    "database = 'mpninfo',port = '3306')"
   ]
  },
  {
   "cell_type": "code",
   "execution_count": 3,
   "metadata": {},
   "outputs": [
    {
     "name": "stdout",
     "output_type": "stream",
     "text": [
      "<class 'pandas.core.frame.DataFrame'>\n",
      "RangeIndex: 12 entries, 0 to 11\n",
      "Data columns (total 7 columns):\n",
      " #   Column      Non-Null Count  Dtype   \n",
      "---  ------      --------------  -----   \n",
      " 0   datebayar   12 non-null     category\n",
      " 1   MPN         12 non-null     float64 \n",
      " 2   PBK KIRIM   12 non-null     float64 \n",
      " 3   PBK TERIMA  12 non-null     float64 \n",
      " 4   SPM         12 non-null     float64 \n",
      " 5   SPMKP       12 non-null     float64 \n",
      " 6   Netto       12 non-null     float64 \n",
      "dtypes: category(1), float64(6)\n",
      "memory usage: 1.1 KB\n"
     ]
    }
   ],
   "source": [
    "data_bulan = pd.read_sql('select datebayar, ket, nominal from netto2021;',con=db_conn)\n",
    "data_bulan.datebayar = pd.to_datetime(data_bulan.datebayar)\n",
    "data_bulan.datebayar = data_bulan.datebayar.dt.month_name()\n",
    "data_bulan = data_bulan.groupby(['datebayar','ket']).sum().reset_index()\n",
    "data_bulan.datebayar = data_bulan.datebayar.astype('str')\n",
    "namabulan = ['January',\t'February',\t'March',\t'April',\t'May',\t'June',\t'July',\t'August',\t'September',\t'October',\t'November',\t'December']\n",
    "data_bulan.datebayar = pd.Categorical(data_bulan.datebayar,categories=namabulan,ordered=True)\n",
    "data_bulan = data_bulan.sort_values(by='datebayar')\n",
    "data_bulan = data_bulan.pivot_table(index=['datebayar'],columns='ket',values='nominal').reset_index()\n",
    "data_bulan['Netto'] = data_bulan.MPN+data_bulan['PBK KIRIM']+data_bulan['PBK TERIMA']+data_bulan.SPM+data_bulan.SPMKP\n",
    "data_bulan.info()"
   ]
  },
  {
   "cell_type": "code",
   "execution_count": 69,
   "metadata": {},
   "outputs": [],
   "source": [
    "df.datebayar = pd.to_datetime(df.datebayar)"
   ]
  },
  {
   "cell_type": "code",
   "execution_count": 70,
   "metadata": {},
   "outputs": [],
   "source": [
    "df.datebayar = df.datebayar.dt.month_name()"
   ]
  },
  {
   "cell_type": "code",
   "execution_count": 73,
   "metadata": {},
   "outputs": [
    {
     "data": {
      "text/html": [
       "<div>\n",
       "<style scoped>\n",
       "    .dataframe tbody tr th:only-of-type {\n",
       "        vertical-align: middle;\n",
       "    }\n",
       "\n",
       "    .dataframe tbody tr th {\n",
       "        vertical-align: top;\n",
       "    }\n",
       "\n",
       "    .dataframe thead th {\n",
       "        text-align: right;\n",
       "    }\n",
       "</style>\n",
       "<table border=\"1\" class=\"dataframe\">\n",
       "  <thead>\n",
       "    <tr style=\"text-align: right;\">\n",
       "      <th></th>\n",
       "      <th>datebayar</th>\n",
       "      <th>nominal</th>\n",
       "    </tr>\n",
       "  </thead>\n",
       "  <tbody>\n",
       "    <tr>\n",
       "      <th>0</th>\n",
       "      <td>January</td>\n",
       "      <td>8.637648e+11</td>\n",
       "    </tr>\n",
       "    <tr>\n",
       "      <th>1</th>\n",
       "      <td>February</td>\n",
       "      <td>7.963779e+11</td>\n",
       "    </tr>\n",
       "    <tr>\n",
       "      <th>2</th>\n",
       "      <td>March</td>\n",
       "      <td>1.075893e+12</td>\n",
       "    </tr>\n",
       "    <tr>\n",
       "      <th>3</th>\n",
       "      <td>April</td>\n",
       "      <td>1.386616e+12</td>\n",
       "    </tr>\n",
       "    <tr>\n",
       "      <th>4</th>\n",
       "      <td>May</td>\n",
       "      <td>4.998920e+11</td>\n",
       "    </tr>\n",
       "    <tr>\n",
       "      <th>5</th>\n",
       "      <td>June</td>\n",
       "      <td>6.958245e+11</td>\n",
       "    </tr>\n",
       "    <tr>\n",
       "      <th>6</th>\n",
       "      <td>July</td>\n",
       "      <td>6.393675e+11</td>\n",
       "    </tr>\n",
       "    <tr>\n",
       "      <th>7</th>\n",
       "      <td>August</td>\n",
       "      <td>5.260521e+11</td>\n",
       "    </tr>\n",
       "    <tr>\n",
       "      <th>8</th>\n",
       "      <td>September</td>\n",
       "      <td>6.303477e+11</td>\n",
       "    </tr>\n",
       "    <tr>\n",
       "      <th>9</th>\n",
       "      <td>October</td>\n",
       "      <td>5.200213e+11</td>\n",
       "    </tr>\n",
       "    <tr>\n",
       "      <th>10</th>\n",
       "      <td>November</td>\n",
       "      <td>8.975575e+11</td>\n",
       "    </tr>\n",
       "    <tr>\n",
       "      <th>11</th>\n",
       "      <td>December</td>\n",
       "      <td>3.600206e+11</td>\n",
       "    </tr>\n",
       "  </tbody>\n",
       "</table>\n",
       "</div>"
      ],
      "text/plain": [
       "    datebayar       nominal\n",
       "0     January  8.637648e+11\n",
       "1    February  7.963779e+11\n",
       "2       March  1.075893e+12\n",
       "3       April  1.386616e+12\n",
       "4         May  4.998920e+11\n",
       "5        June  6.958245e+11\n",
       "6        July  6.393675e+11\n",
       "7      August  5.260521e+11\n",
       "8   September  6.303477e+11\n",
       "9     October  5.200213e+11\n",
       "10   November  8.975575e+11\n",
       "11   December  3.600206e+11"
      ]
     },
     "execution_count": 73,
     "metadata": {},
     "output_type": "execute_result"
    }
   ],
   "source": [
    "df = df.groupby('datebayar').sum().reset_index()\n",
    "df.datebayar = df.datebayar.astype('str')\n",
    "namabulan = ['January',\t'February',\t'March',\t'April',\t'May',\t'June',\t'July',\t'August',\t'September',\t'October',\t'November',\t'December']\n",
    "df.datebayar = pd.Categorical(df.datebayar,categories=namabulan,ordered=True)\n",
    "df.sort_values(by='datebayar')"
   ]
  },
  {
   "cell_type": "code",
   "execution_count": 72,
   "metadata": {},
   "outputs": [
    {
     "data": {
      "text/html": [
       "<div>\n",
       "<style scoped>\n",
       "    .dataframe tbody tr th:only-of-type {\n",
       "        vertical-align: middle;\n",
       "    }\n",
       "\n",
       "    .dataframe tbody tr th {\n",
       "        vertical-align: top;\n",
       "    }\n",
       "\n",
       "    .dataframe thead th {\n",
       "        text-align: right;\n",
       "    }\n",
       "</style>\n",
       "<table border=\"1\" class=\"dataframe\">\n",
       "  <thead>\n",
       "    <tr style=\"text-align: right;\">\n",
       "      <th></th>\n",
       "      <th>datebayar</th>\n",
       "      <th>nominal</th>\n",
       "    </tr>\n",
       "  </thead>\n",
       "  <tbody>\n",
       "    <tr>\n",
       "      <th>0</th>\n",
       "      <td>April</td>\n",
       "      <td>1.386616e+12</td>\n",
       "    </tr>\n",
       "    <tr>\n",
       "      <th>1</th>\n",
       "      <td>August</td>\n",
       "      <td>5.260521e+11</td>\n",
       "    </tr>\n",
       "    <tr>\n",
       "      <th>2</th>\n",
       "      <td>December</td>\n",
       "      <td>3.600206e+11</td>\n",
       "    </tr>\n",
       "    <tr>\n",
       "      <th>3</th>\n",
       "      <td>February</td>\n",
       "      <td>7.963779e+11</td>\n",
       "    </tr>\n",
       "    <tr>\n",
       "      <th>4</th>\n",
       "      <td>January</td>\n",
       "      <td>8.637648e+11</td>\n",
       "    </tr>\n",
       "    <tr>\n",
       "      <th>5</th>\n",
       "      <td>July</td>\n",
       "      <td>6.393675e+11</td>\n",
       "    </tr>\n",
       "    <tr>\n",
       "      <th>6</th>\n",
       "      <td>June</td>\n",
       "      <td>6.958245e+11</td>\n",
       "    </tr>\n",
       "    <tr>\n",
       "      <th>7</th>\n",
       "      <td>March</td>\n",
       "      <td>1.075893e+12</td>\n",
       "    </tr>\n",
       "    <tr>\n",
       "      <th>8</th>\n",
       "      <td>May</td>\n",
       "      <td>4.998920e+11</td>\n",
       "    </tr>\n",
       "    <tr>\n",
       "      <th>9</th>\n",
       "      <td>November</td>\n",
       "      <td>8.975575e+11</td>\n",
       "    </tr>\n",
       "    <tr>\n",
       "      <th>10</th>\n",
       "      <td>October</td>\n",
       "      <td>5.200213e+11</td>\n",
       "    </tr>\n",
       "    <tr>\n",
       "      <th>11</th>\n",
       "      <td>September</td>\n",
       "      <td>6.303477e+11</td>\n",
       "    </tr>\n",
       "  </tbody>\n",
       "</table>\n",
       "</div>"
      ],
      "text/plain": [
       "    datebayar       nominal\n",
       "0       April  1.386616e+12\n",
       "1      August  5.260521e+11\n",
       "2    December  3.600206e+11\n",
       "3    February  7.963779e+11\n",
       "4     January  8.637648e+11\n",
       "5        July  6.393675e+11\n",
       "6        June  6.958245e+11\n",
       "7       March  1.075893e+12\n",
       "8         May  4.998920e+11\n",
       "9    November  8.975575e+11\n",
       "10    October  5.200213e+11\n",
       "11  September  6.303477e+11"
      ]
     },
     "execution_count": 72,
     "metadata": {},
     "output_type": "execute_result"
    }
   ],
   "source": [
    "df"
   ]
  },
  {
   "cell_type": "code",
   "execution_count": 32,
   "metadata": {},
   "outputs": [],
   "source": [
    "des = df[df['BULANBAYAR']==12]"
   ]
  },
  {
   "cell_type": "code",
   "execution_count": 35,
   "metadata": {},
   "outputs": [],
   "source": [
    "des.to_excel(r'E:\\JUPYTER\\des.xlsx',index=False)"
   ]
  },
  {
   "cell_type": "code",
   "execution_count": 18,
   "metadata": {},
   "outputs": [],
   "source": [
    "map = ['411124','411124','411124','411124','411127','411127','411127','411127','411128']"
   ]
  },
  {
   "cell_type": "code",
   "execution_count": 21,
   "metadata": {},
   "outputs": [],
   "source": [
    "slice = df[df['KD MAP'].isin(map)& df['bulanbayar'].isin(['8','9','10'])]\n",
    "#&df['kdbayar'].isin(['101','301','311','321','419']) "
   ]
  },
  {
   "cell_type": "code",
   "execution_count": 23,
   "metadata": {},
   "outputs": [
    {
     "data": {
      "text/plain": [
       "100    4\n",
       "104    4\n",
       "403    3\n",
       "409    3\n",
       "102    1\n",
       "103    1\n",
       "Name: kdbayar, dtype: int64"
      ]
     },
     "execution_count": 23,
     "metadata": {},
     "output_type": "execute_result"
    }
   ],
   "source": [
    "slice.kdbayar.value_counts()"
   ]
  },
  {
   "cell_type": "code",
   "execution_count": 32,
   "metadata": {},
   "outputs": [],
   "source": [
    "df = df.groupby(['FULL','NAMA_WP']).sum().reset_index().sort_values(by='nominal',ascending=False)"
   ]
  },
  {
   "cell_type": "code",
   "execution_count": 34,
   "metadata": {},
   "outputs": [
    {
     "data": {
      "text/html": [
       "<div>\n",
       "<style scoped>\n",
       "    .dataframe tbody tr th:only-of-type {\n",
       "        vertical-align: middle;\n",
       "    }\n",
       "\n",
       "    .dataframe tbody tr th {\n",
       "        vertical-align: top;\n",
       "    }\n",
       "\n",
       "    .dataframe thead th {\n",
       "        text-align: right;\n",
       "    }\n",
       "</style>\n",
       "<table border=\"1\" class=\"dataframe\">\n",
       "  <thead>\n",
       "    <tr style=\"text-align: right;\">\n",
       "      <th></th>\n",
       "      <th>FULL</th>\n",
       "      <th>NAMA_WP</th>\n",
       "      <th>nominal</th>\n",
       "      <th>source</th>\n",
       "    </tr>\n",
       "  </thead>\n",
       "  <tbody>\n",
       "    <tr>\n",
       "      <th>806</th>\n",
       "      <td>316771872003000</td>\n",
       "      <td>MITSUBISHI MOTORS KRAMA YUDHA SALES INDONESIA</td>\n",
       "      <td>1.343251e+12</td>\n",
       "      <td>1276</td>\n",
       "    </tr>\n",
       "    <tr>\n",
       "      <th>140</th>\n",
       "      <td>015480486007000</td>\n",
       "      <td>FASTRATA BUANA</td>\n",
       "      <td>2.242669e+11</td>\n",
       "      <td>324</td>\n",
       "    </tr>\n",
       "    <tr>\n",
       "      <th>233</th>\n",
       "      <td>017350976007000</td>\n",
       "      <td>ROYAL SUTAN AGUNG</td>\n",
       "      <td>2.132761e+11</td>\n",
       "      <td>1955</td>\n",
       "    </tr>\n",
       "    <tr>\n",
       "      <th>185</th>\n",
       "      <td>015960529011000</td>\n",
       "      <td>ASMIN BARA BRONANG</td>\n",
       "      <td>1.636182e+11</td>\n",
       "      <td>126</td>\n",
       "    </tr>\n",
       "    <tr>\n",
       "      <th>5</th>\n",
       "      <td>010027134007000</td>\n",
       "      <td>SOHO INDUSTRI PHARMASI</td>\n",
       "      <td>1.284115e+11</td>\n",
       "      <td>559</td>\n",
       "    </tr>\n",
       "    <tr>\n",
       "      <th>...</th>\n",
       "      <td>...</td>\n",
       "      <td>...</td>\n",
       "      <td>...</td>\n",
       "      <td>...</td>\n",
       "    </tr>\n",
       "    <tr>\n",
       "      <th>488</th>\n",
       "      <td>025456039006000</td>\n",
       "      <td>TUAH TURANGGA AGUNG</td>\n",
       "      <td>-5.825234e+09</td>\n",
       "      <td>38</td>\n",
       "    </tr>\n",
       "    <tr>\n",
       "      <th>682</th>\n",
       "      <td>033299553002000</td>\n",
       "      <td>MEDICA SUKSES ABADI</td>\n",
       "      <td>-6.700073e+09</td>\n",
       "      <td>101</td>\n",
       "    </tr>\n",
       "    <tr>\n",
       "      <th>625</th>\n",
       "      <td>031652548002000</td>\n",
       "      <td>SENTRA PRIMER SOLUSINDO</td>\n",
       "      <td>-3.656935e+10</td>\n",
       "      <td>96</td>\n",
       "    </tr>\n",
       "    <tr>\n",
       "      <th>567</th>\n",
       "      <td>029985207007000</td>\n",
       "      <td>PARIT PADANG GLOBAL</td>\n",
       "      <td>-4.223067e+10</td>\n",
       "      <td>58291</td>\n",
       "    </tr>\n",
       "    <tr>\n",
       "      <th>83</th>\n",
       "      <td>013439641062000</td>\n",
       "      <td>SUZUKI FINANCE INDONESIA</td>\n",
       "      <td>-5.255379e+10</td>\n",
       "      <td>61</td>\n",
       "    </tr>\n",
       "  </tbody>\n",
       "</table>\n",
       "<p>1093 rows × 4 columns</p>\n",
       "</div>"
      ],
      "text/plain": [
       "                FULL                                        NAMA_WP  \\\n",
       "806  316771872003000  MITSUBISHI MOTORS KRAMA YUDHA SALES INDONESIA   \n",
       "140  015480486007000                                 FASTRATA BUANA   \n",
       "233  017350976007000                              ROYAL SUTAN AGUNG   \n",
       "185  015960529011000                             ASMIN BARA BRONANG   \n",
       "5    010027134007000                         SOHO INDUSTRI PHARMASI   \n",
       "..               ...                                            ...   \n",
       "488  025456039006000                            TUAH TURANGGA AGUNG   \n",
       "682  033299553002000                            MEDICA SUKSES ABADI   \n",
       "625  031652548002000                        SENTRA PRIMER SOLUSINDO   \n",
       "567  029985207007000                            PARIT PADANG GLOBAL   \n",
       "83   013439641062000                       SUZUKI FINANCE INDONESIA   \n",
       "\n",
       "          nominal  source  \n",
       "806  1.343251e+12    1276  \n",
       "140  2.242669e+11     324  \n",
       "233  2.132761e+11    1955  \n",
       "185  1.636182e+11     126  \n",
       "5    1.284115e+11     559  \n",
       "..            ...     ...  \n",
       "488 -5.825234e+09      38  \n",
       "682 -6.700073e+09     101  \n",
       "625 -3.656935e+10      96  \n",
       "567 -4.223067e+10   58291  \n",
       "83  -5.255379e+10      61  \n",
       "\n",
       "[1093 rows x 4 columns]"
      ]
     },
     "execution_count": 34,
     "metadata": {},
     "output_type": "execute_result"
    }
   ],
   "source": [
    "df"
   ]
  },
  {
   "cell_type": "code",
   "execution_count": 35,
   "metadata": {},
   "outputs": [],
   "source": [
    "netto_top100=df.nlargest(100,columns='nominal')"
   ]
  },
  {
   "cell_type": "code",
   "execution_count": 36,
   "metadata": {},
   "outputs": [
    {
     "data": {
      "text/html": [
       "<div>\n",
       "<style scoped>\n",
       "    .dataframe tbody tr th:only-of-type {\n",
       "        vertical-align: middle;\n",
       "    }\n",
       "\n",
       "    .dataframe tbody tr th {\n",
       "        vertical-align: top;\n",
       "    }\n",
       "\n",
       "    .dataframe thead th {\n",
       "        text-align: right;\n",
       "    }\n",
       "</style>\n",
       "<table border=\"1\" class=\"dataframe\">\n",
       "  <thead>\n",
       "    <tr style=\"text-align: right;\">\n",
       "      <th></th>\n",
       "      <th>FULL</th>\n",
       "      <th>NAMA_WP</th>\n",
       "      <th>nominal</th>\n",
       "      <th>source</th>\n",
       "    </tr>\n",
       "  </thead>\n",
       "  <tbody>\n",
       "    <tr>\n",
       "      <th>806</th>\n",
       "      <td>316771872003000</td>\n",
       "      <td>MITSUBISHI MOTORS KRAMA YUDHA SALES INDONESIA</td>\n",
       "      <td>1.343251e+12</td>\n",
       "      <td>1276</td>\n",
       "    </tr>\n",
       "    <tr>\n",
       "      <th>140</th>\n",
       "      <td>015480486007000</td>\n",
       "      <td>FASTRATA BUANA</td>\n",
       "      <td>2.242669e+11</td>\n",
       "      <td>324</td>\n",
       "    </tr>\n",
       "    <tr>\n",
       "      <th>233</th>\n",
       "      <td>017350976007000</td>\n",
       "      <td>ROYAL SUTAN AGUNG</td>\n",
       "      <td>2.132761e+11</td>\n",
       "      <td>1955</td>\n",
       "    </tr>\n",
       "    <tr>\n",
       "      <th>185</th>\n",
       "      <td>015960529011000</td>\n",
       "      <td>ASMIN BARA BRONANG</td>\n",
       "      <td>1.636182e+11</td>\n",
       "      <td>126</td>\n",
       "    </tr>\n",
       "    <tr>\n",
       "      <th>5</th>\n",
       "      <td>010027134007000</td>\n",
       "      <td>SOHO INDUSTRI PHARMASI</td>\n",
       "      <td>1.284115e+11</td>\n",
       "      <td>559</td>\n",
       "    </tr>\n",
       "    <tr>\n",
       "      <th>...</th>\n",
       "      <td>...</td>\n",
       "      <td>...</td>\n",
       "      <td>...</td>\n",
       "      <td>...</td>\n",
       "    </tr>\n",
       "    <tr>\n",
       "      <th>788</th>\n",
       "      <td>315620369005000</td>\n",
       "      <td>GENESA DIRGANTARA</td>\n",
       "      <td>8.702814e+09</td>\n",
       "      <td>62</td>\n",
       "    </tr>\n",
       "    <tr>\n",
       "      <th>290</th>\n",
       "      <td>018866780046000</td>\n",
       "      <td>LINESIA ADOFA LESTARI</td>\n",
       "      <td>8.691336e+09</td>\n",
       "      <td>187</td>\n",
       "    </tr>\n",
       "    <tr>\n",
       "      <th>483</th>\n",
       "      <td>025088949002000</td>\n",
       "      <td>MAJU JAYA NIAGATAMA</td>\n",
       "      <td>8.641138e+09</td>\n",
       "      <td>161</td>\n",
       "    </tr>\n",
       "    <tr>\n",
       "      <th>395</th>\n",
       "      <td>022458137007000</td>\n",
       "      <td>BUYUNG POETRA SEMBADA, TBK</td>\n",
       "      <td>8.467428e+09</td>\n",
       "      <td>142</td>\n",
       "    </tr>\n",
       "    <tr>\n",
       "      <th>477</th>\n",
       "      <td>024930927008000</td>\n",
       "      <td>PYRAMIDA RAYA PERSADA</td>\n",
       "      <td>8.184410e+09</td>\n",
       "      <td>134</td>\n",
       "    </tr>\n",
       "  </tbody>\n",
       "</table>\n",
       "<p>100 rows × 4 columns</p>\n",
       "</div>"
      ],
      "text/plain": [
       "                FULL                                        NAMA_WP  \\\n",
       "806  316771872003000  MITSUBISHI MOTORS KRAMA YUDHA SALES INDONESIA   \n",
       "140  015480486007000                                 FASTRATA BUANA   \n",
       "233  017350976007000                              ROYAL SUTAN AGUNG   \n",
       "185  015960529011000                             ASMIN BARA BRONANG   \n",
       "5    010027134007000                         SOHO INDUSTRI PHARMASI   \n",
       "..               ...                                            ...   \n",
       "788  315620369005000                              GENESA DIRGANTARA   \n",
       "290  018866780046000                          LINESIA ADOFA LESTARI   \n",
       "483  025088949002000                            MAJU JAYA NIAGATAMA   \n",
       "395  022458137007000                     BUYUNG POETRA SEMBADA, TBK   \n",
       "477  024930927008000                          PYRAMIDA RAYA PERSADA   \n",
       "\n",
       "          nominal  source  \n",
       "806  1.343251e+12    1276  \n",
       "140  2.242669e+11     324  \n",
       "233  2.132761e+11    1955  \n",
       "185  1.636182e+11     126  \n",
       "5    1.284115e+11     559  \n",
       "..            ...     ...  \n",
       "788  8.702814e+09      62  \n",
       "290  8.691336e+09     187  \n",
       "483  8.641138e+09     161  \n",
       "395  8.467428e+09     142  \n",
       "477  8.184410e+09     134  \n",
       "\n",
       "[100 rows x 4 columns]"
      ]
     },
     "execution_count": 36,
     "metadata": {},
     "output_type": "execute_result"
    }
   ],
   "source": [
    "netto_top100"
   ]
  },
  {
   "cell_type": "code",
   "execution_count": 37,
   "metadata": {},
   "outputs": [],
   "source": [
    "netto_top100.to_excel(r'D:\\DATA KANTOR\\SQL\\netto_top100.xlsx',index=False)"
   ]
  },
  {
   "cell_type": "code",
   "execution_count": null,
   "metadata": {},
   "outputs": [],
   "source": [
    "data.datebayar = pd.to_datetime(data.datebayar)\n",
    "data = data.set_index('datebayar').sort_index()"
   ]
  },
  {
   "cell_type": "code",
   "execution_count": null,
   "metadata": {},
   "outputs": [],
   "source": [
    "datasdokto = data.loc['2021-01-01':'2021-10-31']"
   ]
  },
  {
   "cell_type": "code",
   "execution_count": null,
   "metadata": {},
   "outputs": [],
   "source": [
    "datasdokto.nominal.sum()"
   ]
  },
  {
   "cell_type": "code",
   "execution_count": null,
   "metadata": {},
   "outputs": [],
   "source": [
    "bruto = data[data['ket']=='MPN']"
   ]
  },
  {
   "cell_type": "code",
   "execution_count": null,
   "metadata": {},
   "outputs": [],
   "source": [
    "bruto.nominal.sum()"
   ]
  },
  {
   "cell_type": "code",
   "execution_count": null,
   "metadata": {},
   "outputs": [],
   "source": [
    "ppmpkmq = '''SELECT A.NPWP,\n",
    "       A.KPP,\n",
    "       A.CABANG,\n",
    "       A.NAMA,\n",
    "       A.KDMAP,\n",
    "       A.KDBAYAR,\n",
    "       MASA,\n",
    "       A.TAHUN,\n",
    "       TAHUNBAYAR,\n",
    "       BULANBAYAR,\n",
    "       DATEBAYAR,\n",
    "       NOMINAL,\n",
    "       CASE\n",
    "         WHEN SUBSTRING(A.KDMAP,1,5) IN ('41131','41111') THEN 'PPM'\n",
    "         WHEN TAHUNBAYAR = A.TAHUN THEN 'PPM'\n",
    "         WHEN TAHUNBAYAR - A.TAHUN IN (0,1) AND A.KDMAP IN ('411125','411126') AND A.KDBAYAR IN ('200','199','310','320','390','500','501') THEN 'PPM'\n",
    "         WHEN (TAHUNBAYAR - A.TAHUN IN (0,1) AND MASA = 12) THEN 'PPM'\n",
    "         WHEN A.TAHUN > TAHUNBAYAR THEN 'PPM'\n",
    "         ELSE 'PKM'\n",
    "       END FLAG_PPM_PKM,\n",
    "       NIPPJ,\n",
    "       ntpn,\n",
    "       nosk,\n",
    "       E.SEKTOR,\n",
    "       URAIAN,\n",
    "       F.NAMA AS NAMA_KLU,\n",
    "       F.SEKTOR AS SEKTOR_KLU\n",
    "FROM MPN A\n",
    "  LEFT JOIN WP B\n",
    "         ON A.NPWP = B.NPWP\n",
    "        AND A.KPP = B.KPP\n",
    "        AND A.CABANG = B.CABANG\n",
    "  LEFT JOIN MAP E\n",
    "         ON A.KDMAP = E.KDMAP\n",
    "        AND A.KDBAYAR = E.KDBAYAR\n",
    "  LEFT JOIN KLU F ON B.KLU = F.KODE\n",
    "WHERE TAHUNBAYAR = 2021;'''"
   ]
  },
  {
   "cell_type": "code",
   "execution_count": 27,
   "metadata": {},
   "outputs": [],
   "source": [
    "db_conn = mysql.connect(host = '10.4.19.215', user = 'sugengw07', password= 'sgwi2341',\n",
    "database = 'mpninfo',port = '3306')\n",
    "#with open(r'sql\\PPM_PKM_2021.sql','r') as query:\n",
    "    #penerimaan = query.read()\n",
    "ppmpkm = pd.read_sql(ppmpkmq,db_conn)\n",
    "mf = pd.read_excel(r'MFWP/MFWP.xlsx',usecols=[\n",
    "'NPWP','NAMA_WP','NAMA_AR','SEKSI'], dtype={'NPWP':'str'},engine='openpyxl')"
   ]
  },
  {
   "cell_type": "code",
   "execution_count": null,
   "metadata": {},
   "outputs": [],
   "source": [
    "ppmpkm.DATEBAYAR = pd.to_datetime(ppmpkm.DATEBAYAR )"
   ]
  },
  {
   "cell_type": "code",
   "execution_count": null,
   "metadata": {},
   "outputs": [],
   "source": [
    "ppmpkm=ppmpkm.set_index('DATEBAYAR').sort_index()"
   ]
  },
  {
   "cell_type": "code",
   "execution_count": null,
   "metadata": {},
   "outputs": [],
   "source": [
    "ppmpkm.BULANBAYAR = ppmpkm.BULANBAYAR.astype('str')"
   ]
  },
  {
   "cell_type": "code",
   "execution_count": 33,
   "metadata": {},
   "outputs": [],
   "source": [
    "slice = pd.merge(ppmpkm,mf, left_on='NPWP',right_on='NPWP',how='left')"
   ]
  },
  {
   "cell_type": "code",
   "execution_count": 34,
   "metadata": {},
   "outputs": [],
   "source": [
    "slice = slice.filter(['NAMA_WP','BULANBAYAR','KDMAP','NAMA','NOMINAL'])"
   ]
  },
  {
   "cell_type": "code",
   "execution_count": 35,
   "metadata": {},
   "outputs": [],
   "source": [
    "slice = slice.groupby(['NAMA_WP']).sum().reset_index().sort_values(by = 'NOMINAL',ascending=False)"
   ]
  },
  {
   "cell_type": "code",
   "execution_count": 36,
   "metadata": {},
   "outputs": [
    {
     "data": {
      "text/html": [
       "<div>\n",
       "<style scoped>\n",
       "    .dataframe tbody tr th:only-of-type {\n",
       "        vertical-align: middle;\n",
       "    }\n",
       "\n",
       "    .dataframe tbody tr th {\n",
       "        vertical-align: top;\n",
       "    }\n",
       "\n",
       "    .dataframe thead th {\n",
       "        text-align: right;\n",
       "    }\n",
       "</style>\n",
       "<table border=\"1\" class=\"dataframe\">\n",
       "  <thead>\n",
       "    <tr style=\"text-align: right;\">\n",
       "      <th></th>\n",
       "      <th>NAMA_WP</th>\n",
       "      <th>BULANBAYAR</th>\n",
       "      <th>NOMINAL</th>\n",
       "    </tr>\n",
       "  </thead>\n",
       "  <tbody>\n",
       "    <tr>\n",
       "      <th>259</th>\n",
       "      <td>FASTRATA BUANA</td>\n",
       "      <td>78761</td>\n",
       "      <td>9.236137e+12</td>\n",
       "    </tr>\n",
       "    <tr>\n",
       "      <th>22</th>\n",
       "      <td>AKUR PRATAMA</td>\n",
       "      <td>22581</td>\n",
       "      <td>3.849663e+12</td>\n",
       "    </tr>\n",
       "    <tr>\n",
       "      <th>673</th>\n",
       "      <td>PARIT PADANG GLOBAL</td>\n",
       "      <td>8158650</td>\n",
       "      <td>3.691865e+12</td>\n",
       "    </tr>\n",
       "    <tr>\n",
       "      <th>604</th>\n",
       "      <td>MITSUBISHI MOTORS KRAMA YUDHA SALES INDONESIA</td>\n",
       "      <td>6799</td>\n",
       "      <td>1.249639e+12</td>\n",
       "    </tr>\n",
       "    <tr>\n",
       "      <th>571</th>\n",
       "      <td>MENSA BINASUKSES</td>\n",
       "      <td>2058903</td>\n",
       "      <td>9.402395e+11</td>\n",
       "    </tr>\n",
       "    <tr>\n",
       "      <th>...</th>\n",
       "      <td>...</td>\n",
       "      <td>...</td>\n",
       "      <td>...</td>\n",
       "    </tr>\n",
       "    <tr>\n",
       "      <th>202</th>\n",
       "      <td>DANIEL ROOSENO</td>\n",
       "      <td>20</td>\n",
       "      <td>2.000000e+05</td>\n",
       "    </tr>\n",
       "    <tr>\n",
       "      <th>82</th>\n",
       "      <td>AZIZAH NURAINI</td>\n",
       "      <td>18</td>\n",
       "      <td>2.000000e+05</td>\n",
       "    </tr>\n",
       "    <tr>\n",
       "      <th>14</th>\n",
       "      <td>AFIYAH HASANAH UTAMA</td>\n",
       "      <td>10</td>\n",
       "      <td>1.000000e+05</td>\n",
       "    </tr>\n",
       "    <tr>\n",
       "      <th>332</th>\n",
       "      <td>HASIL BUMI MAKMUR</td>\n",
       "      <td>6</td>\n",
       "      <td>1.000000e+05</td>\n",
       "    </tr>\n",
       "    <tr>\n",
       "      <th>992</th>\n",
       "      <td>WAHANA INTI SELA</td>\n",
       "      <td>10</td>\n",
       "      <td>6.250000e+04</td>\n",
       "    </tr>\n",
       "  </tbody>\n",
       "</table>\n",
       "<p>1031 rows × 3 columns</p>\n",
       "</div>"
      ],
      "text/plain": [
       "                                           NAMA_WP  BULANBAYAR       NOMINAL\n",
       "259                                 FASTRATA BUANA       78761  9.236137e+12\n",
       "22                                    AKUR PRATAMA       22581  3.849663e+12\n",
       "673                            PARIT PADANG GLOBAL     8158650  3.691865e+12\n",
       "604  MITSUBISHI MOTORS KRAMA YUDHA SALES INDONESIA        6799  1.249639e+12\n",
       "571                               MENSA BINASUKSES     2058903  9.402395e+11\n",
       "..                                             ...         ...           ...\n",
       "202                                 DANIEL ROOSENO          20  2.000000e+05\n",
       "82                                  AZIZAH NURAINI          18  2.000000e+05\n",
       "14                            AFIYAH HASANAH UTAMA          10  1.000000e+05\n",
       "332                              HASIL BUMI MAKMUR           6  1.000000e+05\n",
       "992                               WAHANA INTI SELA          10  6.250000e+04\n",
       "\n",
       "[1031 rows x 3 columns]"
      ]
     },
     "execution_count": 36,
     "metadata": {},
     "output_type": "execute_result"
    }
   ],
   "source": [
    "slice"
   ]
  },
  {
   "cell_type": "code",
   "execution_count": 25,
   "metadata": {},
   "outputs": [],
   "source": [
    "slice.to_clipboard()"
   ]
  },
  {
   "cell_type": "code",
   "execution_count": null,
   "metadata": {},
   "outputs": [],
   "source": [
    "sdoktober = ppmpkm.loc['2021-01-01':'2021-10-31']"
   ]
  },
  {
   "cell_type": "code",
   "execution_count": null,
   "metadata": {},
   "outputs": [],
   "source": [
    "ppm = sdoktober[sdoktober['FLAG_PPM_PKM']=='PPM']\n",
    "pkm = sdoktober[sdoktober['FLAG_PPM_PKM']=='PKM']"
   ]
  },
  {
   "cell_type": "code",
   "execution_count": null,
   "metadata": {},
   "outputs": [],
   "source": [
    "print('{:,.0f}'.format(ppm.NOMINAL.sum()))"
   ]
  },
  {
   "cell_type": "code",
   "execution_count": null,
   "metadata": {},
   "outputs": [],
   "source": [
    "print('{:,.0f}'.format(pkm.NOMINAL.sum()))"
   ]
  },
  {
   "cell_type": "code",
   "execution_count": null,
   "metadata": {},
   "outputs": [],
   "source": [
    "spmkp = pd.read_sql('select * from spmkp;',db_conn)"
   ]
  },
  {
   "cell_type": "code",
   "execution_count": null,
   "metadata": {},
   "outputs": [],
   "source": [
    "spmkp.tahun = spmkp.tahun.astype('str')"
   ]
  },
  {
   "cell_type": "code",
   "execution_count": null,
   "metadata": {},
   "outputs": [],
   "source": [
    "spmkp = spmkp[(spmkp['bulan']<11) & (spmkp['tahun']=='2021')]"
   ]
  },
  {
   "cell_type": "code",
   "execution_count": null,
   "metadata": {},
   "outputs": [],
   "source": [
    "print('{:,.0f}'.format(spmkp.nominal.sum()))"
   ]
  },
  {
   "cell_type": "code",
   "execution_count": null,
   "metadata": {},
   "outputs": [],
   "source": [
    "ppm = ppm.filter(['NAMA_SEKSI','NAMA_AR','NPWP_FULL', 'NAMA','NTPN','NOMINAL'])\n",
    "pkm = pkm.filter(['NAMA_SEKSI','NAMA_AR','NPWP_FULL', 'NAMA','NTPN','NOMINAL'])"
   ]
  },
  {
   "cell_type": "code",
   "execution_count": null,
   "metadata": {},
   "outputs": [],
   "source": [
    "ppm= ppm.groupby(['NAMA_AR','NPWP_FULL']).sum().reset_index()\n",
    "pkm= pkm.groupby(['NAMA_AR','NPWP_FULL']).sum().reset_index()"
   ]
  },
  {
   "cell_type": "code",
   "execution_count": null,
   "metadata": {},
   "outputs": [],
   "source": [
    "ppm.to_excel('PPM_Oktober.xlsx',index=False)"
   ]
  },
  {
   "cell_type": "code",
   "execution_count": null,
   "metadata": {},
   "outputs": [],
   "source": [
    "pkm.to_excel('PKM_Oktober.xlsx',index=False)"
   ]
  },
  {
   "cell_type": "code",
   "execution_count": null,
   "metadata": {},
   "outputs": [],
   "source": [
    "print('{:,.0f}'.format(pkm.NOMINAL.sum()))"
   ]
  },
  {
   "cell_type": "code",
   "execution_count": null,
   "metadata": {},
   "outputs": [],
   "source": [
    "smo = data[data['BULANBAYAR'].isin([6,7,8,9,10])]\n",
    "print('{:,.0f}'.format(smo.NOMINAL.sum()))"
   ]
  },
  {
   "cell_type": "code",
   "execution_count": null,
   "metadata": {},
   "outputs": [],
   "source": [
    "mpn.nominal.sum()"
   ]
  },
  {
   "cell_type": "code",
   "execution_count": null,
   "metadata": {},
   "outputs": [],
   "source": [
    "data.to_excel('PPMPKM_Juni_Oktober2021.xlsx',index=False)"
   ]
  },
  {
   "cell_type": "code",
   "execution_count": null,
   "metadata": {},
   "outputs": [],
   "source": [
    "bruto21_kueri = '''select sum(nominal) as jumlah from mpn\n",
    "where datebayar between '2020-12-31' and curdate() ;'''\n",
    "bruto20_kueri = '''select sum(nominal) as jumlah from mpn\n",
    "where datebayar > '2019-12-31' and\n",
    "datebayar <= date_sub(curdate(),interval 1 year);'''\n",
    "\n",
    "bruto21 = pd.read_sql(bruto21_kueri,db_conn)\n",
    "bruto20 = pd.read_sql(bruto20_kueri,db_conn)"
   ]
  },
  {
   "cell_type": "code",
   "execution_count": null,
   "metadata": {},
   "outputs": [],
   "source": [
    "bruto21.subtract(bruto20)"
   ]
  },
  {
   "cell_type": "code",
   "execution_count": null,
   "metadata": {},
   "outputs": [],
   "source": [
    "(bruto21.subtract(bruto20))/bruto20['jumlah'].sum()"
   ]
  },
  {
   "cell_type": "code",
   "execution_count": null,
   "metadata": {},
   "outputs": [],
   "source": [
    "\n",
    "with open(r'sql\\mpnspmpbkspmkp.sql','r') as query:\n",
    "    penerimaan = query.read()\n",
    "data21 = pd.read_sql(penerimaan,db_conn)\n",
    "data21['NPWP_FULL'] = data.npwp+data.kpp+data.cabang\n",
    "mf = mfwp()\n",
    "data21 = pd.merge(data21,mf, left_on='NPWP_FULL',right_on='NPWP', how='left')\n",
    "data21.drop('nama',axis=1,inplace=True)\n",
    "    \n",
    "with open(r'sql\\mpnspmpbkspmkp.sql','r') as query:\n",
    "    penerimaan = query.read()\n",
    "data = pd.read_sql(penerimaan,db_conn)\n",
    "data['NPWP_FULL'] = data.npwp+data.kpp+data.cabang\n",
    "mf = mfwp()\n",
    "data = pd.merge(data,mf, left_on='NPWP_FULL',right_on='NPWP', how='left')\n",
    "data.drop('nama',axis=1,inplace=True)\n",
    "    \n",
    "def mfwp():\n",
    "    mf = pd.read_excel(r'MFWP/MFWP+klu.xlsx',usecols=[\n",
    "        'NPWP','NAMA_WP','NAMA_AR','SEKSI','NAMA_KLU'], dtype={'NPWP':'str'},engine='openpyxl')\n",
    "    return mf"
   ]
  },
  {
   "cell_type": "code",
   "execution_count": null,
   "metadata": {},
   "outputs": [],
   "source": [
    "mpn21 = netto21()\n",
    "mpn20 = netto20()"
   ]
  }
 ],
 "metadata": {
  "interpreter": {
   "hash": "b3ba2566441a7c06988d0923437866b63cedc61552a5af99d1f4fb67d367b25f"
  },
  "kernelspec": {
   "display_name": "Python 3.8.8 64-bit ('base': conda)",
   "name": "python3"
  },
  "language_info": {
   "codemirror_mode": {
    "name": "ipython",
    "version": 3
   },
   "file_extension": ".py",
   "mimetype": "text/x-python",
   "name": "python",
   "nbconvert_exporter": "python",
   "pygments_lexer": "ipython3",
   "version": "3.8.8"
  },
  "orig_nbformat": 4
 },
 "nbformat": 4,
 "nbformat_minor": 2
}
