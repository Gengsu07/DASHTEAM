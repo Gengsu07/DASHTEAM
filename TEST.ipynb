{
 "cells": [
  {
   "cell_type": "code",
   "execution_count": 1,
   "metadata": {},
   "outputs": [],
   "source": [
    "import mysql.connector as mysql\n",
    "import pandas as pd"
   ]
  },
  {
   "cell_type": "code",
   "execution_count": 6,
   "metadata": {},
   "outputs": [],
   "source": [
    "db_conn = mysql.connect(host = '10.4.19.215', user = 'sugengw07', password= 'sgwi2341',\n",
    "database = 'mpninfo',port = '3306')\n",
    "\n",
    "bruto21_kueri = '''select sum(nominal) as jumlah from netto2021\n",
    "where ket  <> 'SPMKP'\n",
    "and datebayar <= curdate() ;'''\n",
    "bruto21 = pd.read_sql(bruto21_kueri,db_conn)['jumlah'].sum()\n"
   ]
  },
  {
   "cell_type": "code",
   "execution_count": 7,
   "metadata": {},
   "outputs": [
    {
     "data": {
      "text/plain": [
       "'957'"
      ]
     },
     "execution_count": 7,
     "metadata": {},
     "output_type": "execute_result"
    }
   ],
   "source": [
    "str(bruto21)[:3]"
   ]
  },
  {
   "cell_type": "code",
   "execution_count": null,
   "metadata": {},
   "outputs": [],
   "source": [
    "data.datebayar = pd.to_datetime(data.datebayar)\n",
    "data = data.set_index('datebayar').sort_index()"
   ]
  },
  {
   "cell_type": "code",
   "execution_count": null,
   "metadata": {},
   "outputs": [],
   "source": [
    "datasdokto = data.loc['2021-01-01':'2021-10-31']"
   ]
  },
  {
   "cell_type": "code",
   "execution_count": null,
   "metadata": {},
   "outputs": [],
   "source": [
    "datasdokto.nominal.sum()"
   ]
  },
  {
   "cell_type": "code",
   "execution_count": null,
   "metadata": {},
   "outputs": [],
   "source": [
    "bruto = data[data['ket']=='MPN']"
   ]
  },
  {
   "cell_type": "code",
   "execution_count": null,
   "metadata": {},
   "outputs": [],
   "source": [
    "bruto.nominal.sum()"
   ]
  },
  {
   "cell_type": "code",
   "execution_count": null,
   "metadata": {},
   "outputs": [],
   "source": [
    "ppmpkmq = '''SELECT A.NPWP,\n",
    "       A.KPP,\n",
    "       A.CABANG,\n",
    "       A.NAMA,\n",
    "       A.KDMAP,\n",
    "       A.KDBAYAR,\n",
    "       MASA,\n",
    "       A.TAHUN,\n",
    "       TAHUNBAYAR,\n",
    "       BULANBAYAR,\n",
    "       DATEBAYAR,\n",
    "       NOMINAL,\n",
    "       CASE\n",
    "         WHEN SUBSTRING(A.KDMAP,1,5) IN ('41131','41111') THEN 'PPM'\n",
    "         WHEN TAHUNBAYAR = A.TAHUN THEN 'PPM'\n",
    "         WHEN TAHUNBAYAR - A.TAHUN IN (0,1) AND A.KDMAP IN ('411125','411126') AND A.KDBAYAR IN ('200','199','310','320','390','500','501') THEN 'PPM'\n",
    "         WHEN (TAHUNBAYAR - A.TAHUN IN (0,1) AND MASA = 12) THEN 'PPM'\n",
    "         WHEN A.TAHUN > TAHUNBAYAR THEN 'PPM'\n",
    "         ELSE 'PKM'\n",
    "       END FLAG_PPM_PKM,\n",
    "       NIPPJ,\n",
    "       ntpn,\n",
    "       nosk,\n",
    "       E.SEKTOR,\n",
    "       URAIAN,\n",
    "       F.NAMA AS NAMA_KLU,\n",
    "       F.SEKTOR AS SEKTOR_KLU\n",
    "FROM MPN A\n",
    "  LEFT JOIN WP B\n",
    "         ON A.NPWP = B.NPWP\n",
    "        AND A.KPP = B.KPP\n",
    "        AND A.CABANG = B.CABANG\n",
    "  LEFT JOIN MAP E\n",
    "         ON A.KDMAP = E.KDMAP\n",
    "        AND A.KDBAYAR = E.KDBAYAR\n",
    "  LEFT JOIN KLU F ON B.KLU = F.KODE\n",
    "WHERE TAHUNBAYAR = 2021;'''"
   ]
  },
  {
   "cell_type": "code",
   "execution_count": 27,
   "metadata": {},
   "outputs": [],
   "source": [
    "db_conn = mysql.connect(host = '10.4.19.215', user = 'sugengw07', password= 'sgwi2341',\n",
    "database = 'mpninfo',port = '3306')\n",
    "#with open(r'sql\\PPM_PKM_2021.sql','r') as query:\n",
    "    #penerimaan = query.read()\n",
    "ppmpkm = pd.read_sql(ppmpkmq,db_conn)\n",
    "mf = pd.read_excel(r'MFWP/MFWP.xlsx',usecols=[\n",
    "'NPWP','NAMA_WP','NAMA_AR','SEKSI'], dtype={'NPWP':'str'},engine='openpyxl')"
   ]
  },
  {
   "cell_type": "code",
   "execution_count": null,
   "metadata": {},
   "outputs": [],
   "source": [
    "ppmpkm.DATEBAYAR = pd.to_datetime(ppmpkm.DATEBAYAR )"
   ]
  },
  {
   "cell_type": "code",
   "execution_count": null,
   "metadata": {},
   "outputs": [],
   "source": [
    "ppmpkm=ppmpkm.set_index('DATEBAYAR').sort_index()"
   ]
  },
  {
   "cell_type": "code",
   "execution_count": null,
   "metadata": {},
   "outputs": [],
   "source": [
    "ppmpkm.BULANBAYAR = ppmpkm.BULANBAYAR.astype('str')"
   ]
  },
  {
   "cell_type": "code",
   "execution_count": 33,
   "metadata": {},
   "outputs": [],
   "source": [
    "slice = pd.merge(ppmpkm,mf, left_on='NPWP',right_on='NPWP',how='left')"
   ]
  },
  {
   "cell_type": "code",
   "execution_count": 34,
   "metadata": {},
   "outputs": [],
   "source": [
    "slice = slice.filter(['NAMA_WP','BULANBAYAR','KDMAP','NAMA','NOMINAL'])"
   ]
  },
  {
   "cell_type": "code",
   "execution_count": 35,
   "metadata": {},
   "outputs": [],
   "source": [
    "slice = slice.groupby(['NAMA_WP']).sum().reset_index().sort_values(by = 'NOMINAL',ascending=False)"
   ]
  },
  {
   "cell_type": "code",
   "execution_count": 36,
   "metadata": {},
   "outputs": [
    {
     "data": {
      "text/html": [
       "<div>\n",
       "<style scoped>\n",
       "    .dataframe tbody tr th:only-of-type {\n",
       "        vertical-align: middle;\n",
       "    }\n",
       "\n",
       "    .dataframe tbody tr th {\n",
       "        vertical-align: top;\n",
       "    }\n",
       "\n",
       "    .dataframe thead th {\n",
       "        text-align: right;\n",
       "    }\n",
       "</style>\n",
       "<table border=\"1\" class=\"dataframe\">\n",
       "  <thead>\n",
       "    <tr style=\"text-align: right;\">\n",
       "      <th></th>\n",
       "      <th>NAMA_WP</th>\n",
       "      <th>BULANBAYAR</th>\n",
       "      <th>NOMINAL</th>\n",
       "    </tr>\n",
       "  </thead>\n",
       "  <tbody>\n",
       "    <tr>\n",
       "      <th>259</th>\n",
       "      <td>FASTRATA BUANA</td>\n",
       "      <td>78761</td>\n",
       "      <td>9.236137e+12</td>\n",
       "    </tr>\n",
       "    <tr>\n",
       "      <th>22</th>\n",
       "      <td>AKUR PRATAMA</td>\n",
       "      <td>22581</td>\n",
       "      <td>3.849663e+12</td>\n",
       "    </tr>\n",
       "    <tr>\n",
       "      <th>673</th>\n",
       "      <td>PARIT PADANG GLOBAL</td>\n",
       "      <td>8158650</td>\n",
       "      <td>3.691865e+12</td>\n",
       "    </tr>\n",
       "    <tr>\n",
       "      <th>604</th>\n",
       "      <td>MITSUBISHI MOTORS KRAMA YUDHA SALES INDONESIA</td>\n",
       "      <td>6799</td>\n",
       "      <td>1.249639e+12</td>\n",
       "    </tr>\n",
       "    <tr>\n",
       "      <th>571</th>\n",
       "      <td>MENSA BINASUKSES</td>\n",
       "      <td>2058903</td>\n",
       "      <td>9.402395e+11</td>\n",
       "    </tr>\n",
       "    <tr>\n",
       "      <th>...</th>\n",
       "      <td>...</td>\n",
       "      <td>...</td>\n",
       "      <td>...</td>\n",
       "    </tr>\n",
       "    <tr>\n",
       "      <th>202</th>\n",
       "      <td>DANIEL ROOSENO</td>\n",
       "      <td>20</td>\n",
       "      <td>2.000000e+05</td>\n",
       "    </tr>\n",
       "    <tr>\n",
       "      <th>82</th>\n",
       "      <td>AZIZAH NURAINI</td>\n",
       "      <td>18</td>\n",
       "      <td>2.000000e+05</td>\n",
       "    </tr>\n",
       "    <tr>\n",
       "      <th>14</th>\n",
       "      <td>AFIYAH HASANAH UTAMA</td>\n",
       "      <td>10</td>\n",
       "      <td>1.000000e+05</td>\n",
       "    </tr>\n",
       "    <tr>\n",
       "      <th>332</th>\n",
       "      <td>HASIL BUMI MAKMUR</td>\n",
       "      <td>6</td>\n",
       "      <td>1.000000e+05</td>\n",
       "    </tr>\n",
       "    <tr>\n",
       "      <th>992</th>\n",
       "      <td>WAHANA INTI SELA</td>\n",
       "      <td>10</td>\n",
       "      <td>6.250000e+04</td>\n",
       "    </tr>\n",
       "  </tbody>\n",
       "</table>\n",
       "<p>1031 rows × 3 columns</p>\n",
       "</div>"
      ],
      "text/plain": [
       "                                           NAMA_WP  BULANBAYAR       NOMINAL\n",
       "259                                 FASTRATA BUANA       78761  9.236137e+12\n",
       "22                                    AKUR PRATAMA       22581  3.849663e+12\n",
       "673                            PARIT PADANG GLOBAL     8158650  3.691865e+12\n",
       "604  MITSUBISHI MOTORS KRAMA YUDHA SALES INDONESIA        6799  1.249639e+12\n",
       "571                               MENSA BINASUKSES     2058903  9.402395e+11\n",
       "..                                             ...         ...           ...\n",
       "202                                 DANIEL ROOSENO          20  2.000000e+05\n",
       "82                                  AZIZAH NURAINI          18  2.000000e+05\n",
       "14                            AFIYAH HASANAH UTAMA          10  1.000000e+05\n",
       "332                              HASIL BUMI MAKMUR           6  1.000000e+05\n",
       "992                               WAHANA INTI SELA          10  6.250000e+04\n",
       "\n",
       "[1031 rows x 3 columns]"
      ]
     },
     "execution_count": 36,
     "metadata": {},
     "output_type": "execute_result"
    }
   ],
   "source": [
    "slice"
   ]
  },
  {
   "cell_type": "code",
   "execution_count": 25,
   "metadata": {},
   "outputs": [],
   "source": [
    "slice.to_clipboard()"
   ]
  },
  {
   "cell_type": "code",
   "execution_count": null,
   "metadata": {},
   "outputs": [],
   "source": [
    "sdoktober = ppmpkm.loc['2021-01-01':'2021-10-31']"
   ]
  },
  {
   "cell_type": "code",
   "execution_count": null,
   "metadata": {},
   "outputs": [],
   "source": [
    "ppm = sdoktober[sdoktober['FLAG_PPM_PKM']=='PPM']\n",
    "pkm = sdoktober[sdoktober['FLAG_PPM_PKM']=='PKM']"
   ]
  },
  {
   "cell_type": "code",
   "execution_count": null,
   "metadata": {},
   "outputs": [],
   "source": [
    "print('{:,.0f}'.format(ppm.NOMINAL.sum()))"
   ]
  },
  {
   "cell_type": "code",
   "execution_count": null,
   "metadata": {},
   "outputs": [],
   "source": [
    "print('{:,.0f}'.format(pkm.NOMINAL.sum()))"
   ]
  },
  {
   "cell_type": "code",
   "execution_count": null,
   "metadata": {},
   "outputs": [],
   "source": [
    "spmkp = pd.read_sql('select * from spmkp;',db_conn)"
   ]
  },
  {
   "cell_type": "code",
   "execution_count": null,
   "metadata": {},
   "outputs": [],
   "source": [
    "spmkp.tahun = spmkp.tahun.astype('str')"
   ]
  },
  {
   "cell_type": "code",
   "execution_count": null,
   "metadata": {},
   "outputs": [],
   "source": [
    "spmkp = spmkp[(spmkp['bulan']<11) & (spmkp['tahun']=='2021')]"
   ]
  },
  {
   "cell_type": "code",
   "execution_count": null,
   "metadata": {},
   "outputs": [],
   "source": [
    "print('{:,.0f}'.format(spmkp.nominal.sum()))"
   ]
  },
  {
   "cell_type": "code",
   "execution_count": null,
   "metadata": {},
   "outputs": [],
   "source": [
    "ppm = ppm.filter(['NAMA_SEKSI','NAMA_AR','NPWP_FULL', 'NAMA','NTPN','NOMINAL'])\n",
    "pkm = pkm.filter(['NAMA_SEKSI','NAMA_AR','NPWP_FULL', 'NAMA','NTPN','NOMINAL'])"
   ]
  },
  {
   "cell_type": "code",
   "execution_count": null,
   "metadata": {},
   "outputs": [],
   "source": [
    "ppm= ppm.groupby(['NAMA_AR','NPWP_FULL']).sum().reset_index()\n",
    "pkm= pkm.groupby(['NAMA_AR','NPWP_FULL']).sum().reset_index()"
   ]
  },
  {
   "cell_type": "code",
   "execution_count": null,
   "metadata": {},
   "outputs": [],
   "source": [
    "ppm.to_excel('PPM_Oktober.xlsx',index=False)"
   ]
  },
  {
   "cell_type": "code",
   "execution_count": null,
   "metadata": {},
   "outputs": [],
   "source": [
    "pkm.to_excel('PKM_Oktober.xlsx',index=False)"
   ]
  },
  {
   "cell_type": "code",
   "execution_count": null,
   "metadata": {},
   "outputs": [],
   "source": [
    "print('{:,.0f}'.format(pkm.NOMINAL.sum()))"
   ]
  },
  {
   "cell_type": "code",
   "execution_count": null,
   "metadata": {},
   "outputs": [],
   "source": [
    "smo = data[data['BULANBAYAR'].isin([6,7,8,9,10])]\n",
    "print('{:,.0f}'.format(smo.NOMINAL.sum()))"
   ]
  },
  {
   "cell_type": "code",
   "execution_count": null,
   "metadata": {},
   "outputs": [],
   "source": [
    "mpn.nominal.sum()"
   ]
  },
  {
   "cell_type": "code",
   "execution_count": null,
   "metadata": {},
   "outputs": [],
   "source": [
    "data.to_excel('PPMPKM_Juni_Oktober2021.xlsx',index=False)"
   ]
  },
  {
   "cell_type": "code",
   "execution_count": null,
   "metadata": {},
   "outputs": [],
   "source": [
    "bruto21_kueri = '''select sum(nominal) as jumlah from mpn\n",
    "where datebayar between '2020-12-31' and curdate() ;'''\n",
    "bruto20_kueri = '''select sum(nominal) as jumlah from mpn\n",
    "where datebayar > '2019-12-31' and\n",
    "datebayar <= date_sub(curdate(),interval 1 year);'''\n",
    "\n",
    "bruto21 = pd.read_sql(bruto21_kueri,db_conn)\n",
    "bruto20 = pd.read_sql(bruto20_kueri,db_conn)"
   ]
  },
  {
   "cell_type": "code",
   "execution_count": null,
   "metadata": {},
   "outputs": [],
   "source": [
    "bruto21.subtract(bruto20)"
   ]
  },
  {
   "cell_type": "code",
   "execution_count": null,
   "metadata": {},
   "outputs": [],
   "source": [
    "(bruto21.subtract(bruto20))/bruto20['jumlah'].sum()"
   ]
  },
  {
   "cell_type": "code",
   "execution_count": null,
   "metadata": {},
   "outputs": [],
   "source": [
    "\n",
    "with open(r'sql\\mpnspmpbkspmkp.sql','r') as query:\n",
    "    penerimaan = query.read()\n",
    "data21 = pd.read_sql(penerimaan,db_conn)\n",
    "data21['NPWP_FULL'] = data.npwp+data.kpp+data.cabang\n",
    "mf = mfwp()\n",
    "data21 = pd.merge(data21,mf, left_on='NPWP_FULL',right_on='NPWP', how='left')\n",
    "data21.drop('nama',axis=1,inplace=True)\n",
    "    \n",
    "with open(r'sql\\mpnspmpbkspmkp.sql','r') as query:\n",
    "    penerimaan = query.read()\n",
    "data = pd.read_sql(penerimaan,db_conn)\n",
    "data['NPWP_FULL'] = data.npwp+data.kpp+data.cabang\n",
    "mf = mfwp()\n",
    "data = pd.merge(data,mf, left_on='NPWP_FULL',right_on='NPWP', how='left')\n",
    "data.drop('nama',axis=1,inplace=True)\n",
    "    \n",
    "def mfwp():\n",
    "    mf = pd.read_excel(r'MFWP/MFWP+klu.xlsx',usecols=[\n",
    "        'NPWP','NAMA_WP','NAMA_AR','SEKSI','NAMA_KLU'], dtype={'NPWP':'str'},engine='openpyxl')\n",
    "    return mf"
   ]
  },
  {
   "cell_type": "code",
   "execution_count": null,
   "metadata": {},
   "outputs": [],
   "source": [
    "mpn21 = netto21()\n",
    "mpn20 = netto20()"
   ]
  }
 ],
 "metadata": {
  "interpreter": {
   "hash": "b3ba2566441a7c06988d0923437866b63cedc61552a5af99d1f4fb67d367b25f"
  },
  "kernelspec": {
   "display_name": "Python 3.8.8 64-bit ('base': conda)",
   "name": "python3"
  },
  "language_info": {
   "codemirror_mode": {
    "name": "ipython",
    "version": 3
   },
   "file_extension": ".py",
   "mimetype": "text/x-python",
   "name": "python",
   "nbconvert_exporter": "python",
   "pygments_lexer": "ipython3",
   "version": "3.8.8"
  },
  "orig_nbformat": 4
 },
 "nbformat": 4,
 "nbformat_minor": 2
}
